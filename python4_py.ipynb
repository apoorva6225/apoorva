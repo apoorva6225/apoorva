{
  "nbformat": 4,
  "nbformat_minor": 0,
  "metadata": {
    "colab": {
      "name": "python4.py",
      "provenance": [],
      "collapsed_sections": [],
      "authorship_tag": "ABX9TyMW0tCEa0lzX++nCB9a9do1",
      "include_colab_link": true
    },
    "kernelspec": {
      "name": "python3",
      "display_name": "Python 3"
    },
    "language_info": {
      "name": "python"
    }
  },
  "cells": [
    {
      "cell_type": "markdown",
      "metadata": {
        "id": "view-in-github",
        "colab_type": "text"
      },
      "source": [
        "<a href=\"https://colab.research.google.com/github/apoorva6225/apoorva/blob/main/python4_py.ipynb\" target=\"_parent\"><img src=\"https://colab.research.google.com/assets/colab-badge.svg\" alt=\"Open In Colab\"/></a>"
      ]
    },
    {
      "cell_type": "code",
      "metadata": {
        "colab": {
          "base_uri": "https://localhost:8080/"
        },
        "id": "KM0jq5upkmbR",
        "outputId": "b9424bea-adc7-4e13-b97b-0edcf2b8910c"
      },
      "source": [
        "import numpy\n",
        "\n",
        "print(\"Creating 5*2 array using numpy.arange\")\n",
        "sampleArray=numpy.arange(100,200,10)\n",
        "sampleArray=sampleArray.reshape(5,2)\n",
        "print(sampleArray)\n"
      ],
      "execution_count": null,
      "outputs": [
        {
          "output_type": "stream",
          "name": "stdout",
          "text": [
            "Creating 5*2 array using numpy.arange\n",
            "[[100 110]\n",
            " [120 130]\n",
            " [140 150]\n",
            " [160 170]\n",
            " [180 190]]\n"
          ]
        }
      ]
    }
  ]
}