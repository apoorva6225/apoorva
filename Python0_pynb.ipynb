{
  "nbformat": 4,
  "nbformat_minor": 0,
  "metadata": {
    "colab": {
      "name": "Python0.pynb",
      "provenance": [],
      "collapsed_sections": [],
      "authorship_tag": "ABX9TyPP8dgkU9/0/wILJvCIz3ym",
      "include_colab_link": true
    },
    "kernelspec": {
      "name": "python3",
      "display_name": "Python 3"
    },
    "language_info": {
      "name": "python"
    }
  },
  "cells": [
    {
      "cell_type": "markdown",
      "metadata": {
        "id": "view-in-github",
        "colab_type": "text"
      },
      "source": [
        "<a href=\"https://colab.research.google.com/github/apoorva6225/apoorva/blob/main/Python0_pynb.ipynb\" target=\"_parent\"><img src=\"https://colab.research.google.com/assets/colab-badge.svg\" alt=\"Open In Colab\"/></a>"
      ]
    },
    {
      "cell_type": "code",
      "metadata": {
        "colab": {
          "base_uri": "https://localhost:8080/"
        },
        "id": "Lx-buAd2zKwu",
        "outputId": "45bb86e2-4543-4a67-dfcd-3424e934463f"
      },
      "source": [
        "n=int(input(\"Please Enter any Number\"))\n",
        "sum=0\n",
        "for num in range(1,n+1):\n",
        " sum=sum+num\n",
        "print(\"sum of first\",n,\"numbers is:\",sum)\n",
        "average=sum/n\n",
        "print(\"Avarage of \",n,\"numbers is:\",average)\n",
        "\n",
        "for i in range(1,11):\n",
        " print(i)"
      ],
      "execution_count": 2,
      "outputs": [
        {
          "output_type": "stream",
          "name": "stdout",
          "text": [
            "Please Enter any Number5\n",
            "sum of first 5 numbers is: 15\n",
            "Avarage of  5 numbers is: 3.0\n",
            "1\n",
            "2\n",
            "3\n",
            "4\n",
            "5\n",
            "6\n",
            "7\n",
            "8\n",
            "9\n",
            "10\n"
          ]
        }
      ]
    },
    {
      "cell_type": "code",
      "metadata": {
        "colab": {
          "base_uri": "https://localhost:8080/"
        },
        "id": "NH54EoLDzs3X",
        "outputId": "d73a144b-8411-42b7-b829-4ae7253f08fe"
      },
      "source": [
        "num=7\n",
        "factorial=1\n",
        "if num<0:\n",
        "  print(\"sorry,factorial does not exist for negative number\")\n",
        "elif num==0:\n",
        "  print(\"The factorial of 0 is 1\")\n",
        "else:\n",
        "  for i in range(1,num+1):\n",
        "    factorial=factorial*i\n",
        "  print(\"The factorial of\",num,\"is\",factorial)   \n"
      ],
      "execution_count": 3,
      "outputs": [
        {
          "output_type": "stream",
          "name": "stdout",
          "text": [
            "The factorial of 7 is 5040\n"
          ]
        }
      ]
    },
    {
      "cell_type": "code",
      "metadata": {
        "colab": {
          "base_uri": "https://localhost:8080/",
          "height": 399
        },
        "id": "Z3MbJVlu0FjH",
        "outputId": "c37a9f33-0d60-4936-e1db-13e7d41da48a"
      },
      "source": [
        "import numpy\n",
        "\n",
        "print(\"Creating 5*2 array using numpy.arange\")\n",
        "sampleArray=numpy.arange(100,200,10)\n",
        "sampleArray=sampleArray.reshape(5,2)\n",
        "print(sampleArray)\n",
        "\n",
        "import numpy as np\n",
        "import matplotlib.pyplot as plt\n",
        "x=np.arange(1,11)\n",
        "y=np.array([100,10,300,20,500,60,700,80,900,100])\n",
        "plt.title(\"Line Graph\")\n",
        "plt.xlabel(\"x axis\")\n",
        "plt.ylabel(\"y axis\")\n",
        "plt.plot(x,y,color=\"red\")\n",
        "plt.show()"
      ],
      "execution_count": 4,
      "outputs": [
        {
          "output_type": "stream",
          "name": "stdout",
          "text": [
            "Creating 5*2 array using numpy.arange\n",
            "[[100 110]\n",
            " [120 130]\n",
            " [140 150]\n",
            " [160 170]\n",
            " [180 190]]\n"
          ]
        },
        {
          "output_type": "display_data",
          "data": {
            "image/png": "[encoded data removed]",
            "text/plain": [
              "<Figure size 432x288 with 1 Axes>"
            ]
          },
          "metadata": {
            "needs_background": "light"
          }
        }
      ]
    },
    {
      "cell_type": "code",
      "metadata": {
        "colab": {
          "base_uri": "https://localhost:8080/",
          "height": 130
        },
        "id": "r3pKEBOt0Pu_",
        "outputId": "bb81d641-1d12-4876-f3a7-d7674e0f782e"
      },
      "source": [
        "listOne = [3, 6, 9, 12, 15, 18, 21]\n",
        "listTwo = [4, 8, 12, 16, 20, 24, 28]\n",
        "listThree = list()\n",
        "\n",
        "oddElements = listOne[1::2]\n",
        "print(\"Element at odd-index positions from list one\")\n",
        "print(oddElements)\n",
        "\n",
        "EvenElement = listTwo[0::2]\n",
        "print(\"Element at even-index positions from list two\")\n",
        "print(EvenElement)\n",
        "\n",
        "print(\"Printing Final third list\")\n",
        "listThree.extend(oddElements)\n",
        "listThree.extend(EvenElement)\n",
        "print(listThree)\n",
        "import random\n",
        "count = 1\n",
        "while count <= 3 :\n",
        "    num = random.randint(100,999)\n",
        "    if num imp % 5 == 0 :\n",
        "        print (num)\n",
        "        count += 1\n"
      ],
      "execution_count": 6,
      "outputs": [
        {
          "output_type": "error",
          "ename": "SyntaxError",
          "evalue": "ignored",
          "traceback": [
            "\u001b[0;36m  File \u001b[0;32m\"<ipython-input-6-4de16d9a92af>\"\u001b[0;36m, line \u001b[0;32m21\u001b[0m\n\u001b[0;31m    if num imp % 5 == 0 :\u001b[0m\n\u001b[0m             ^\u001b[0m\n\u001b[0;31mSyntaxError\u001b[0m\u001b[0;31m:\u001b[0m invalid syntax\n"
          ]
        }
      ]
    },
    {
      "cell_type": "code",
      "metadata": {
        "colab": {
          "base_uri": "https://localhost:8080/"
        },
        "id": "EJfaJUfq0gVG",
        "outputId": "2f535d86-aea3-4fde-bdbf-1faaec07b161"
      },
      "source": [
        "import string    \n",
        "import random # define the random module  \n",
        "S = 10  # number of characters in the string.  \n",
        "# call random.choices() string module to find the string in Uppercase + numeric data.  \n",
        "ran = ''.join(random.choices(string.ascii_uppercase + string.digits, k = S))    \n",
        "print(\"The randomly generated string is : \" + str(ran)) # print the random data  \n",
        " \n"
      ],
      "execution_count": 7,
      "outputs": [
        {
          "output_type": "stream",
          "name": "stdout",
          "text": [
            "The randomly generated string is : HXGUSJ3EA8\n"
          ]
        }
      ]
    }
  ]
}