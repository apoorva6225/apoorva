{
  "nbformat": 4,
  "nbformat_minor": 0,
  "metadata": {
    "colab": {
      "name": "Exercise 6.ipynb",
      "provenance": [],
      "collapsed_sections": [],
      "authorship_tag": "ABX9TyPTOoSVESJJ0u9xsFg0ZY8Z",
      "include_colab_link": true
    },
    "kernelspec": {
      "name": "python3",
      "display_name": "Python 3"
    },
    "language_info": {
      "name": "python"
    }
  },
  "cells": [
    {
      "cell_type": "markdown",
      "metadata": {
        "id": "view-in-github",
        "colab_type": "text"
      },
      "source": [
        "<a href=\"https://colab.research.google.com/github/apoorva6225/apoorva/blob/main/Exercise_6.ipynb\" target=\"_parent\"><img src=\"https://colab.research.google.com/assets/colab-badge.svg\" alt=\"Open In Colab\"/></a>"
      ]
    },
    {
      "cell_type": "code",
      "metadata": {
        "colab": {
          "base_uri": "https://localhost:8080/",
          "height": 313
        },
        "id": "a7Ho1vG-06Hm",
        "outputId": "4d9065cf-eb5c-4bf0-b429-97bcb27dad51"
      },
      "source": [
        "# Q1. Write python code to get pdf and cdf of normal distribution ie gaussian distribution\n",
        "import numpy as np\n",
        "import matplotlib.pyplot as plt\n",
        "import math\n",
        "# Creating a series of data of in range of 1-50.\n",
        "X = np.linspace(1,1000,1000)\n",
        "#Creating a Function.\n",
        "def normal_dist(X , mean , sd):\n",
        "  p=1.0 / math.sqrt(2 * np.pi*(sd)**2)\n",
        "  prob_density = p * np.exp(-0.5*((X-mean)/sd)**2)\n",
        "  return prob_density\n",
        "#Calculate mean and Standard deviation.\n",
        "#mean = np.mean(x)\n",
        "#sd = np.std(x)\n",
        "# Finding mean\n",
        "mean = round(sum(X)/len(X), 4)\n",
        "# Finding Standard Deviation\n",
        "sd = 0.0\n",
        "N = len(X)\n",
        "for x in X:\n",
        "  sd += (x - mean)**2\n",
        "  sd /= N\n",
        "sd = math.sqrt(sd)\n",
        "sd = round(sd, 2)\n",
        "print('The mean is', mean)\n",
        "print('The standard deviation is',sd)\n",
        "#Apply function to the data.\n",
        "pdf = normal_dist(X,mean,sd)\n",
        "#Plotting the Results\n",
        "plt.plot(X,pdf , color = 'red')\n",
        "plt.xlabel('Data points')\n",
        "plt.ylabel('Probability Density')\n",
        "def CDF(X, mean, sd):\n",
        "\n",
        "  cdf=0\n",
        "\n",
        "  for x in X:\n",
        "\n",
        "    pdf = normal_dist(x,mean,sd)\n",
        "\n",
        "    cdf=cdf+pdf\n",
        "\n",
        "  return cdf\n",
        "  cd=CDF(X,mean,sd)"
      ],
      "execution_count": null,
      "outputs": [
        {
          "output_type": "stream",
          "name": "stdout",
          "text": [
            "The mean is 500.5\n",
            "The standard deviation is 15.8\n"
          ]
        },
        {
          "output_type": "display_data",
          "data": {
            "image/png": "[encoded data removed]",
            "text/plain": [
              "<Figure size 432x288 with 1 Axes>"
            ]
          },
          "metadata": {
            "needs_background": "light"
          }
        }
      ]
    },
    {
      "cell_type": "code",
      "metadata": {
        "colab": {
          "base_uri": "https://localhost:8080/"
        },
        "id": "crg7hoBPGUfT",
        "outputId": "4fc58ed4-4c31-4098-d11e-0f362604d8dc"
      },
      "source": [
        "# Q2. Write python code to get pdf and cdf of binomial distribution.\n",
        "n=int(input(\"Enter the value of n: \"))\n",
        "p=float(input(\"Enter value of p: \"))\n",
        "q=1-p\n",
        "def fact(k):\n",
        "  f=i=1\n",
        "  while i<=k:\n",
        "    f=i*f\n",
        "    i +=1\n",
        "  return f\n",
        "def comb(x, y):\n",
        "  num=fact(x)  \n",
        "  den=fact(x-y)\n",
        "  den=fact(y)*den\n",
        "  comb=num/den\n",
        "  return comb\n",
        "cdf=0\n",
        "print(\"r\\tp(r)\\t\\t\\t\\tc(r)\")\n",
        "for i in range(n+1):\n",
        "  pd=comb(n,i)*(p**i)*(q**(n-i))\n",
        "  cd=comb(n,i)*(p**i)*(q**(n-i))\n",
        "  cdf=cdf+cd\n",
        "  print(str(i)+'\\t'+str(pd)+ '\\t' +str(cdf))\n",
        "\n"
      ],
      "execution_count": 37,
      "outputs": [
        {
          "output_type": "stream",
          "name": "stdout",
          "text": [
            "Enter the value of n: 8\n",
            "Enter value of p: 0.1\n",
            "r\tp(r)\t\t\t\tc(r)\n",
            "0\t0.4304672100000001\t0.4304672100000001\n",
            "1\t0.38263752000000006\t0.8131047300000002\n",
            "2\t0.14880348000000002\t0.9619082100000002\n",
            "3\t0.03306744000000001\t0.9949756500000002\n",
            "4\t0.004592700000000001\t0.9995683500000002\n",
            "5\t0.0004082400000000002\t0.9999765900000002\n",
            "6\t2.268000000000001e-05\t0.9999992700000002\n",
            "7\t7.200000000000003e-07\t0.9999999900000002\n",
            "8\t1.0000000000000005e-08\t1.0000000000000002\n"
          ]
        }
      ]
    },
    {
      "cell_type": "code",
      "metadata": {
        "colab": {
          "base_uri": "https://localhost:8080/"
        },
        "id": "wbxBbx7QKnKj",
        "outputId": "a848e3ff-0d4d-4505-89bb-edcfcd19e7c3"
      },
      "source": [
        "# Q3. Write python code to get pdf and cdf of poisson distribution.\n",
        "import math as m\n",
        "x=int(input(\"Enter a value for x:\"))\n",
        "l=int(input(\"Enter a value for lambda:\"))\n",
        "print(\"r\\tp(r)\\t\\t\\t\\tc(r)\")\n",
        "cdf=0\n",
        "for i in range(0,x+1):\n",
        "  pd=(m.exp(-1)*m.pow(1,i))/m.factorial(i)\n",
        "  cd=(m.exp(-1)*m.pow(1,i))/m.factorial(i)\n",
        "  cdf=cdf+cd\n",
        "  print(str(i)+\"\\t\" +str(pd)+\"\\t\" +str(cdf))\n"
      ],
      "execution_count": 29,
      "outputs": [
        {
          "output_type": "stream",
          "name": "stdout",
          "text": [
            "Enter a value for x:3\n",
            "Enter a value for lambda:2\n",
            "r\tp(r)\t\t\t\tc(r)\n",
            "0\t0.36787944117144233\t0.36787944117144233\n",
            "1\t0.36787944117144233\t0.7357588823428847\n",
            "2\t0.18393972058572117\t0.9196986029286058\n",
            "3\t0.06131324019524039\t0.9810118431238463\n"
          ]
        }
      ]
    },
    {
      "cell_type": "code",
      "metadata": {
        "colab": {
          "base_uri": "https://localhost:8080/"
        },
        "id": "iFYu2H7-IXpj",
        "outputId": "e9fdfb43-b6d2-4bb6-9460-6ba4c862d2ee"
      },
      "source": [
        "# Q4. Write python code to get pdf and cdf of geometric distribution.\n",
        "import math as m\n",
        "x=int(input(\"Enter a value for x:\"))\n",
        "p=float(input(\"Enter a value for p:\"))\n",
        "q=1-p\n",
        "print(\"r\\tp(r)\\t\\t\\t\\tc(r)\")\n",
        "cdf=0\n",
        "for i in range(1,x+1):\n",
        "  pdf=p*(m.pow(q,(i-1)))\n",
        "  cdf=1-m.pow(q,i) \n",
        "  print(str(i)+\"\\t\" +str(pdf)+\"\\t\" +str(cdf))\n"
      ],
      "execution_count": 27,
      "outputs": [
        {
          "output_type": "stream",
          "name": "stdout",
          "text": [
            "Enter a value for x:10\n",
            "Enter a value for p:0.3\n",
            "r\tp(r)\t\t\t\tc(r)\n",
            "1\t0.3\t0.30000000000000004\n",
            "2\t0.21\t0.51\n",
            "3\t0.14699999999999996\t0.657\n",
            "4\t0.10289999999999998\t0.7599\n",
            "5\t0.07202999999999998\t0.8319300000000001\n",
            "6\t0.05042099999999998\t0.882351\n",
            "7\t0.035294699999999984\t0.9176457\n",
            "8\t0.02470628999999999\t0.94235199\n",
            "9\t0.01729440299999999\t0.959646393\n",
            "10\t0.012106082099999993\t0.9717524751000001\n"
          ]
        }
      ]
    },
    {
      "cell_type": "code",
      "metadata": {
        "colab": {
          "base_uri": "https://localhost:8080/"
        },
        "id": "XctZvfWrOrfk",
        "outputId": "f426fdd2-a443-4ca9-af62-5bef6aff3061"
      },
      "source": [
        "# Q5. Write python code to get pdf and cdf of negative binomial distribution.\n",
        "n=int(input(\"Enter the value of n: \"))\n",
        "k=int(input(\"Enter value of k: \"))\n",
        "p=float(input(\"Enter a value for p:\"))\n",
        "q=1-p\n",
        "def fact(k):\n",
        "  f=i=1\n",
        "  while i<=k:\n",
        "    f=i*f\n",
        "    i +=1\n",
        "  return f\n",
        "def comb(x, y):\n",
        "  num=fact(x)  \n",
        "  d=fact(x-y)\n",
        "  d=fact(y)*d\n",
        "  comb=num/d\n",
        "  return comb\n",
        "cdf=0\n",
        "for i in range(k+1):\n",
        "  pdf=comb((n-i),(i-1))*m.pow(p,i)*m.pow(q,(n-i))\n",
        "  cdf=cdf+pdf\n",
        "  print(str(i)+'\\t'+str(pdf)+ '\\t' +str(cdf))\n"
      ],
      "execution_count": 36,
      "outputs": [
        {
          "output_type": "stream",
          "name": "stdout",
          "text": [
            "Enter the value of n: 5\n",
            "Enter value of k: 3\n",
            "Enter a value for p:0.4\n",
            "0\t0.012959999999999996\t0.012959999999999996\n",
            "1\t0.05184\t0.0648\n",
            "2\t0.10368000000000001\t0.16848000000000002\n",
            "3\t0.023040000000000005\t0.19152000000000002\n"
          ]
        }
      ]
    },
    {
      "cell_type": "code",
      "metadata": {
        "colab": {
          "base_uri": "https://localhost:8080/"
        },
        "id": "BhTaTLVaP_eQ",
        "outputId": "dca37018-feb3-46f3-eda9-a225e6f183c9"
      },
      "source": [
        "# Q6. Write python code to get pdf and cdf of hyper-geometric distribution.\n",
        "M=int(input(\"Enter the vsalue of M:\"))\n",
        "N=int(input(\"Enter the value of N: \"))\n",
        "n=int(input(\"Enter value for n: \"))\n",
        "x=int(input(\"Enter a value for x:\"))\n",
        "\n",
        "def fact(k):\n",
        "  f=i=1\n",
        "  while i<=k:\n",
        "    f=i*f\n",
        "    i +=1\n",
        "  return f\n",
        "def comb(x, y):\n",
        "  num=fact(x)  \n",
        "  d=fact(x-y)\n",
        "  d=fact(y)*d\n",
        "  comb=num/d\n",
        "  return comb\n",
        "cdf=0\n",
        "for i in range(x+1):\n",
        "  pdf=(comb(N,x)*comb((M-N),(n-x)))/comb(M,n)\n",
        "  cdf=cdf+pdf\n",
        "  print(str(i)+'\\t'+str(pdf)+ '\\t' +str(cdf))\n"
      ],
      "execution_count": 35,
      "outputs": [
        {
          "output_type": "stream",
          "name": "stdout",
          "text": [
            "Enter the vsalue of M:30\n",
            "Enter the value of N: 14\n",
            "Enter value for n: 5\n",
            "Enter a value for x:2\n",
            "0\t0.35759897828863346\t0.35759897828863346\n",
            "1\t0.35759897828863346\t0.7151979565772669\n",
            "2\t0.35759897828863346\t1.0727969348659003\n"
          ]
        }
      ]
    },
    {
      "cell_type": "code",
      "metadata": {
        "colab": {
          "base_uri": "https://localhost:8080/"
        },
        "id": "c2uXuu5QSPtA",
        "outputId": "6379046c-65a7-4ea6-be37-7c778c0580fc"
      },
      "source": [
        "# Q7. Write code to get pdf and cdf of exponential distribution\n",
        "import math\n",
        "m=float(input(\"Enter the mean:\"))\n",
        "x=int(input(\"Enter the value for x:\"))\n",
        "l=1/m\n",
        "pdf=l*math.exp(-(l*x))\n",
        "cdf=1-math.exp(-(l*x))\n",
        "print(\"Pdf for Exponential distribution is:\",pdf)\n",
        "print(\"cdf for Exponential distribution is:\",cdf)\n"
      ],
      "execution_count": 38,
      "outputs": [
        {
          "output_type": "stream",
          "name": "stdout",
          "text": [
            "Enter the mean:4\n",
            "Enter the value for x:5\n",
            "Pdf for Exponential distribution is: 0.07162619921504752\n",
            "cdf for Exponential distribution is: 0.7134952031398099\n"
          ]
        }
      ]
    },
    {
      "cell_type": "code",
      "metadata": {
        "colab": {
          "base_uri": "https://localhost:8080/"
        },
        "id": "tacET5-KUPuz",
        "outputId": "8ea4b7ef-9357-47c9-addc-17bc2cc6e2bf"
      },
      "source": [
        "# Q8. Write code to get pdf and cdf of uniform distribution\n",
        "import math\n",
        "x=int(input(\"Enter the value for x:\"))\n",
        "a=int(input(\"Enter the value for a:\"))\n",
        "b=int(input(\"Enter the value for b:\"))\n",
        "c=int(input(\"Enter the value for upper limit:\"))\n",
        "d=int(input(\"Enter the value for lower limit:\"))\n",
        "\n",
        "if(a<x<b):\n",
        "  p=1/(b-a)\n",
        "  cd=(c-d)/(b-a)\n",
        "else:\n",
        "  print('Error')\n",
        "print(\"Mean=\",(b+a)/2)\n",
        "print(\"Varience=\",math.pow((b-a),2)/12)\n",
        "print(\"cdf for uniform distribution is:\",cdf) \n",
        "print(\"pdf for uniform distribution is:\",p) \n",
        " \n"
      ],
      "execution_count": 42,
      "outputs": [
        {
          "output_type": "stream",
          "name": "stdout",
          "text": [
            "Enter the value for x:35\n",
            "Enter the value for a:20\n",
            "Enter the value for b:40\n",
            "Enter the value for upper limit:35\n",
            "Enter the value for lower limit:30\n",
            "Mean= 30.0\n",
            "Varience= 33.333333333333336\n",
            "cdf for uniform distribution is: 0.7134952031398099\n",
            "pdf for uniform distribution is: 0.05\n"
          ]
        }
      ]
    }
  ]
}