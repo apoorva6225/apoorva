{
  "nbformat": 4,
  "nbformat_minor": 0,
  "metadata": {
    "colab": {
      "name": "Untitled5.ipynb",
      "provenance": [],
      "authorship_tag": "ABX9TyNb/nK8MS8wuwCd448iD278",
      "include_colab_link": true
    },
    "kernelspec": {
      "name": "python3",
      "display_name": "Python 3"
    },
    "language_info": {
      "name": "python"
    }
  },
  "cells": [
    {
      "cell_type": "markdown",
      "metadata": {
        "id": "view-in-github",
        "colab_type": "text"
      },
      "source": [
        "<a href=\"https://colab.research.google.com/github/apoorva6225/apoorva/blob/main/Untitled5.ipynb\" target=\"_parent\"><img src=\"https://colab.research.google.com/assets/colab-badge.svg\" alt=\"Open In Colab\"/></a>"
      ]
    },
    {
      "cell_type": "code",
      "metadata": {
        "colab": {
          "base_uri": "https://localhost:8080/"
        },
        "id": "AGXj_-OIwS7f",
        "outputId": "cd87ff66-937d-4757-d447-1ade4ee8f4f6"
      },
      "source": [
        "from scipy.stats import binom\n",
        "n=8\n",
        "p=0.1\n",
        "r_values=1\n",
        "mean,var=binom.stats(n,p)\n",
        "pd=binom.pmf(r_values,n,p) \n",
        "print(str(r_values)+\"\\t\"+str(pd))\n",
        "print(\"mean=\"+str(mean))\n",
        "print(\"variance=\"+str(var))"
      ],
      "execution_count": 1,
      "outputs": [
        {
          "output_type": "stream",
          "name": "stdout",
          "text": [
            "1\t0.3826375200000002\n",
            "mean=0.8\n",
            "variance=0.7200000000000001\n"
          ]
        }
      ]
    }
  ]
}