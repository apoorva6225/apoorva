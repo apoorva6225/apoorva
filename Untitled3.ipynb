{
  "nbformat": 4,
  "nbformat_minor": 0,
  "metadata": {
    "colab": {
      "name": "Untitled3.ipynb",
      "provenance": [],
      "authorship_tag": "ABX9TyPaoLN69Lj2eTW+YSKO92Qe",
      "include_colab_link": true
    },
    "kernelspec": {
      "name": "python3",
      "display_name": "Python 3"
    },
    "language_info": {
      "name": "python"
    }
  },
  "cells": [
    {
      "cell_type": "markdown",
      "metadata": {
        "id": "view-in-github",
        "colab_type": "text"
      },
      "source": [
        "<a href=\"https://colab.research.google.com/github/apoorva6225/apoorva/blob/main/Untitled3.ipynb\" target=\"_parent\"><img src=\"https://colab.research.google.com/assets/colab-badge.svg\" alt=\"Open In Colab\"/></a>"
      ]
    },
    {
      "cell_type": "code",
      "metadata": {
        "colab": {
          "base_uri": "https://localhost:8080/",
          "height": 435
        },
        "id": "uUvtdMi4e5Ol",
        "outputId": "8e1ef444-013a-4b7e-8642-9b6d4f34f8d7"
      },
      "source": [
        "from scipy.stats import binom\n",
        "n=6\n",
        "p=0.5\n",
        "r_values=3\n",
        "mean,var=binom.stats(n,p)\n",
        "pd=binom.pmf(r_values,n,p) \n",
        "print(\"r\\tp(r)\")\n",
        "for i in range(n+1):\n",
        "    print(str(r_values)+\"\\t\"+str(pd))\n",
        "print(\"mean=\"+str(mean))\n",
        "print(\"variance=\"+str(var))\n",
        "\n",
        "import matplotlib.pyplot as plt\n",
        "plt.bar(r_values,pd) \n",
        "plt.show()\n"
      ],
      "execution_count": 1,
      "outputs": [
        {
          "output_type": "stream",
          "name": "stdout",
          "text": [
            "r\tp(r)\n",
            "3\t0.3125000000000002\n",
            "3\t0.3125000000000002\n",
            "3\t0.3125000000000002\n",
            "3\t0.3125000000000002\n",
            "3\t0.3125000000000002\n",
            "3\t0.3125000000000002\n",
            "3\t0.3125000000000002\n",
            "mean=3.0\n",
            "variance=1.5\n"
          ]
        },
        {
          "output_type": "display_data",
          "data": {
            "image/png": "[encoded data removed]",
            "text/plain": [
              "<Figure size 432x288 with 1 Axes>"
            ]
          },
          "metadata": {
            "needs_background": "light"
          }
        }
      ]
    }
  ]
}