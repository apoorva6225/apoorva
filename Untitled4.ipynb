{
  "nbformat": 4,
  "nbformat_minor": 0,
  "metadata": {
    "colab": {
      "name": "Untitled4.ipynb",
      "provenance": [],
      "collapsed_sections": [],
      "authorship_tag": "ABX9TyOvmvG120kTxN9DE9bL0FHE",
      "include_colab_link": true
    },
    "kernelspec": {
      "name": "python3",
      "display_name": "Python 3"
    },
    "language_info": {
      "name": "python"
    }
  },
  "cells": [
    {
      "cell_type": "markdown",
      "metadata": {
        "id": "view-in-github",
        "colab_type": "text"
      },
      "source": [
        "<a href=\"https://colab.research.google.com/github/apoorva6225/apoorva/blob/main/Untitled4.ipynb\" target=\"_parent\"><img src=\"https://colab.research.google.com/assets/colab-badge.svg\" alt=\"Open In Colab\"/></a>"
      ]
    },
    {
      "cell_type": "code",
      "metadata": {
        "colab": {
          "base_uri": "https://localhost:8080/"
        },
        "id": "8mbwCQn0uhvk",
        "outputId": "91de31ea-58c9-40ed-e394-eb3bc164d9e8"
      },
      "source": [
        "from scipy.stats import binom\n",
        "n=6\n",
        "p=0.5\n",
        "r_values=3\n",
        "mean,var=binom.stats(n,p)\n",
        "pd=binom.pmf(r_values,n,p) \n",
        "print(str(r_values)+\"\\t\"+str(pd))\n",
        "print(\"mean=\"+str(mean))\n",
        "print(\"variance=\"+str(var))"
      ],
      "execution_count": 1,
      "outputs": [
        {
          "output_type": "stream",
          "name": "stdout",
          "text": [
            "3\t0.3125000000000002\n",
            "mean=3.0\n",
            "variance=1.5\n"
          ]
        }
      ]
    },
    {
      "cell_type": "code",
      "metadata": {
        "colab": {
          "base_uri": "https://localhost:8080/"
        },
        "id": "YN0XrS1svCpE",
        "outputId": "65314662-07b1-407b-cdbe-c6c5584db2d5"
      },
      "source": [
        "from scipy.stats import binom\n",
        "\n",
        "n=10\n",
        "\n",
        "p=0.1\n",
        "\n",
        "r_values=list(range(4))\n",
        "\n",
        "d_value=list(range(4,11))\n",
        "\n",
        "mean,var=binom.stats(n,p,)\n",
        "\n",
        "pd=[binom.pmf(r,n,p) for r in r_values]\n",
        "\n",
        "df=[binom.pmf(s,n,p) for s in d_value]\n",
        "\n",
        "print(str(r_values) + \"\\t\" + str(pd))\n",
        "\n",
        "s=sum(pd)\n",
        "\n",
        "print(\"probability of more than 3 defective is:\" +str(s))\n",
        "\n",
        "\n",
        "print(\"mean =\"+str(mean)) \n",
        "\n",
        "print(\"variance =\"+str(var))\n"
      ],
      "execution_count": 4,
      "outputs": [
        {
          "output_type": "stream",
          "name": "stdout",
          "text": [
            "[0, 1, 2, 3]\t[0.34867844009999993, 0.3874204890000005, 0.19371024450000005, 0.05739562800000007]\n",
            "probability of more than 3 defective is:0.9872048016000006\n",
            "mean =1.0\n",
            "variance =0.9\n"
          ]
        }
      ]
    },
    {
      "cell_type": "code",
      "metadata": {
        "colab": {
          "base_uri": "https://localhost:8080/"
        },
        "id": "cUofo7oJvVhR",
        "outputId": "95474af5-e204-4d5f-e8f6-4ed7f290a503"
      },
      "source": [
        "from scipy.stats import binom\n",
        "\n",
        "n=12\n",
        "\n",
        "p=0.2\n",
        "\n",
        "r_values=2\n",
        "\n",
        "s_values=list(range(3))\n",
        "\n",
        "t_values=list(range(3,13))\n",
        "\n",
        "mean,var=binom.stats(n,p)\n",
        "\n",
        "pd=binom.pmf(r_values,n,p)\n",
        "\n",
        "sd=[binom.pmf(s,n,p) for s in s_values]\n",
        "\n",
        "td=[binom.pmf(t,n,p) for t in t_values]\n",
        "\n",
        "print(str(r_values) + \"\\t\" + str(pd))\n",
        "\n",
        "print(\"probability of exactly 2 are of such changes is:\" +str(pd))\n",
        "\n",
        "print(str(s_values)+ \"\\t\" + str(sd))\n",
        "\n",
        "a=sum(sd)\n",
        "\n",
        "print(\"probability of atmost 2 are of such changes is:\" +str(a))\n",
        "\n",
        "print(str(t_values)+ \"\\t\" +str(td))\n",
        "\n",
        "b=1-a\n",
        "\n",
        "print(\"probabiity of more than 2 such changes is:\" +str(b))\n",
        "\n",
        "\n",
        "\n",
        "\n",
        "\n",
        "print(\"mean =\"+str(mean)) \n",
        "\n",
        "print(\"variance =\"+str(var))"
      ],
      "execution_count": 6,
      "outputs": [
        {
          "output_type": "stream",
          "name": "stdout",
          "text": [
            "2\t0.28346784153599947\n",
            "probability of exactly 2 are of such changes is:0.28346784153599947\n",
            "[0, 1, 2]\t[0.06871947673599997, 0.2061584302079996, 0.28346784153599947]\n",
            "probability of atmost 2 are of such changes is:0.558345748479999\n",
            "[3, 4, 5, 6, 7, 8, 9, 10, 11, 12]\t[0.23622320128000002, 0.1328755507199998, 0.05315022028799997, 0.01550214758399999, 0.003321888767999998, 0.0005190451199999995, 5.767168000000002e-05, 4.3253759999999935e-06, 1.9660799999999964e-07, 4.096000000000008e-09]\n",
            "probabiity of more than 2 such changes is:0.44165425152000104\n",
            "mean =2.4000000000000004\n",
            "variance =1.9200000000000004\n"
          ]
        }
      ]
    },
    {
      "cell_type": "code",
      "metadata": {
        "colab": {
          "base_uri": "https://localhost:8080/",
          "height": 333
        },
        "id": "7Cm6ZZaLvh3N",
        "outputId": "2736d7e4-30c4-42e3-dfb3-fb82f1b5b661"
      },
      "source": [
        "from scipy.stats import binom\n",
        "\n",
        "n=10\n",
        "q=0.2\n",
        "p=0.8\n",
        "\n",
        "r_values=list(range(0))\n",
        "\n",
        "d_value=list(range(0,11,1))\n",
        "\n",
        "mean,var=binom.stats(n,p,q)\n",
        "\n",
        "pd=[binom.pmf(r,n,p) for r in r_values]\n",
        "\n",
        "df=[binom.pmf(s,n,p) for s in d_value]\n",
        "\n",
        "print(str(r_values) + \"\\t\" + str(pd))\n",
        "\n",
        "s=sum(pd)\n",
        "\n",
        "print(\"probability of defective is:\" +str(s))\n",
        "\n",
        "\n",
        "print(\"mean =\"+str(mean)) \n",
        "\n",
        "print(\"variance =\"+str(var))\n",
        "import matplotlib.pyplot as plt\n",
        "plt.bar(r_values,pd) \n",
        "plt.show()\n",
        "\n"
      ],
      "execution_count": 7,
      "outputs": [
        {
          "output_type": "stream",
          "name": "stdout",
          "text": [
            "[]\t[]\n",
            "probability of defective is:0\n",
            "mean =8.2\n",
            "variance =1.5999999999999996\n"
          ]
        },
        {
          "output_type": "display_data",
          "data": {
            "image/png": "[encoded data removed]",
            "text/plain": [
              "<Figure size 432x288 with 1 Axes>"
            ]
          },
          "metadata": {
            "needs_background": "light"
          }
        }
      ]
    }
  ]
}