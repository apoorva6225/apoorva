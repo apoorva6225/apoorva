{
  "nbformat": 4,
  "nbformat_minor": 0,
  "metadata": {
    "colab": {
      "name": "python9.ipynb",
      "provenance": [],
      "authorship_tag": "ABX9TyMM4U9PybpZ3Rv8nVD4MvxU",
      "include_colab_link": true
    },
    "kernelspec": {
      "name": "python3",
      "display_name": "Python 3"
    },
    "language_info": {
      "name": "python"
    }
  },
  "cells": [
    {
      "cell_type": "markdown",
      "metadata": {
        "id": "view-in-github",
        "colab_type": "text"
      },
      "source": [
        "<a href=\"https://colab.research.google.com/github/apoorva6225/apoorva/blob/main/python9.ipynb\" target=\"_parent\"><img src=\"https://colab.research.google.com/assets/colab-badge.svg\" alt=\"Open In Colab\"/></a>"
      ]
    },
    {
      "cell_type": "code",
      "metadata": {
        "colab": {
          "base_uri": "https://localhost:8080/"
        },
        "id": "yvjakBobCq_S",
        "outputId": "8460e9c6-1c05-434b-cbd6-662cfec4d087"
      },
      "source": [
        "import string    \n",
        "import random # define the random module  \n",
        "S = 10\n",
        "ran = ''.join(random.choices(string.ascii_uppercase + string.digits, k = S))    \n",
        "print(\"The randomly generated string is : \" + str(ran)) # print the random data  "
      ],
      "execution_count": null,
      "outputs": [
        {
          "output_type": "stream",
          "name": "stdout",
          "text": [
            "The randomly generated string is : YI82Y9BGKX\n"
          ]
        }
      ]
    }
  ]
}