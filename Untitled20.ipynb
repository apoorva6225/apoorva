{
  "nbformat": 4,
  "nbformat_minor": 0,
  "metadata": {
    "colab": {
      "name": "Untitled20.ipynb",
      "provenance": [],
      "collapsed_sections": [],
      "authorship_tag": "ABX9TyOwZ2TVxhsrfXsSdr4mgbR8",
      "include_colab_link": true
    },
    "kernelspec": {
      "name": "python3",
      "display_name": "Python 3"
    },
    "language_info": {
      "name": "python"
    }
  },
  "cells": [
    {
      "cell_type": "markdown",
      "metadata": {
        "id": "view-in-github",
        "colab_type": "text"
      },
      "source": [
        "<a href=\"https://colab.research.google.com/github/apoorva6225/apoorva/blob/main/Untitled20.ipynb\" target=\"_parent\"><img src=\"https://colab.research.google.com/assets/colab-badge.svg\" alt=\"Open In Colab\"/></a>"
      ]
    },
    {
      "cell_type": "code",
      "metadata": {
        "colab": {
          "base_uri": "https://localhost:8080/"
        },
        "id": "jHE2MAlUgx1j",
        "outputId": "be6f856a-cfc2-4a19-b84b-7d30e240db7a"
      },
      "source": [
        "from scipy.stats import norm\n",
        "mean=14\n",
        "sd=1\n",
        "a=norm.cdf(13,mean,sd)\n",
        "b=1-a\n",
        "print(b)\n"
      ],
      "execution_count": 1,
      "outputs": [
        {
          "output_type": "stream",
          "name": "stdout",
          "text": [
            "0.8413447460685429\n"
          ]
        }
      ]
    },
    {
      "cell_type": "code",
      "metadata": {
        "colab": {
          "base_uri": "https://localhost:8080/"
        },
        "id": "ejIf3iWYnYr8",
        "outputId": "f024ddec-a364-4c62-a4ee-75beb3fc1886"
      },
      "source": [
        "from scipy.stats import norm\n",
        "mean=4.4\n",
        "sd=1.3\n",
        "a=norm.cdf(3.1,mean,sd)\n",
        "b=norm.cdf(7,mean,sd)\n",
        "c=b-a\n",
        "print(c)"
      ],
      "execution_count": 2,
      "outputs": [
        {
          "output_type": "stream",
          "name": "stdout",
          "text": [
            "0.8185946141203637\n"
          ]
        }
      ]
    },
    {
      "cell_type": "code",
      "metadata": {
        "colab": {
          "base_uri": "https://localhost:8080/"
        },
        "id": "k6usm4d-z5Vx",
        "outputId": "0346a564-b5d8-4acb-91bb-d42ff6be8ec4"
      },
      "source": [
        "from scipy.stats import norm\n",
        "mean=175\n",
        "sd=10\n",
        "total=330000\n",
        "a=norm.cdf(205,mean,sd)\n",
        "b=1-a\n",
        "print(b)\n",
        "d=total*b\n",
        "print(d)"
      ],
      "execution_count": 14,
      "outputs": [
        {
          "output_type": "stream",
          "name": "stdout",
          "text": [
            "0.0013498980316301035\n",
            "445.4663504379341\n"
          ]
        }
      ]
    },
    {
      "cell_type": "code",
      "metadata": {
        "colab": {
          "base_uri": "https://localhost:8080/"
        },
        "id": "LM-yZDn25U5F",
        "outputId": "67dda3b2-3dc6-48bf-80f0-8cdb1f3983fd"
      },
      "source": [
        "from scipy.stats import norm\n",
        "\n",
        "p=62\n",
        "q=90\n",
        "\n",
        "mean=(p+q)/2\n",
        "print(mean)\n",
        "sd=(mean-p)/2\n",
        "print(sd)\n",
        "\n",
        "\n",
        "\n",
        "\n",
        "\n"
      ],
      "execution_count": 36,
      "outputs": [
        {
          "output_type": "stream",
          "name": "stdout",
          "text": [
            "76.0\n",
            "7.0\n"
          ]
        }
      ]
    },
    {
      "cell_type": "code",
      "metadata": {
        "colab": {
          "base_uri": "https://localhost:8080/"
        },
        "id": "4zar5DiT_yLe",
        "outputId": "aa130422-9d68-4be0-c897-90e8d0441265"
      },
      "source": [
        "from scipy.stats import norm\n",
        "\n",
        "mean=80\n",
        "sd=5.2\n",
        "a=norm.cdf(73,mean,sd)\n",
        "b=norm.cdf(82,mean,sd)\n",
        "c=norm.cdf(86,mean,sd)\n",
        "d=a*100\n",
        "print(d)\n",
        "e=(c-b)*100\n",
        "print(e)\n",
        "f=100-d\n",
        "print(f)\n",
        "\n",
        "\n",
        "\n",
        "\n"
      ],
      "execution_count": 38,
      "outputs": [
        {
          "output_type": "stream",
          "name": "stdout",
          "text": [
            "8.912645309802992\n",
            "22.597957294333327\n",
            "91.087354690197\n"
          ]
        }
      ]
    },
    {
      "cell_type": "code",
      "metadata": {
        "colab": {
          "base_uri": "https://localhost:8080/"
        },
        "id": "eXCrbeK7KJRU",
        "outputId": "c36c75d5-6f82-4e4b-a57f-3c26afc245d8"
      },
      "source": [
        "from scipy.stats import norm\n",
        "mean=134\n",
        "sd=35\n",
        "a=norm.cdf(80,mean,sd)\n",
        "print(a)\n",
        "print(a*100)\n"
      ],
      "execution_count": 30,
      "outputs": [
        {
          "output_type": "stream",
          "name": "stdout",
          "text": [
            "0.06143272061465878\n",
            "6.143272061465878\n"
          ]
        }
      ]
    }
  ]
}