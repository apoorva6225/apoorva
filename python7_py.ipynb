{
  "nbformat": 4,
  "nbformat_minor": 0,
  "metadata": {
    "colab": {
      "name": "python7.py",
      "provenance": [],
      "collapsed_sections": [],
      "authorship_tag": "ABX9TyOZscBqRo3tacsXJLk6vFL0",
      "include_colab_link": true
    },
    "kernelspec": {
      "name": "python3",
      "display_name": "Python 3"
    },
    "language_info": {
      "name": "python"
    }
  },
  "cells": [
    {
      "cell_type": "markdown",
      "metadata": {
        "id": "view-in-github",
        "colab_type": "text"
      },
      "source": [
        "<a href=\"https://colab.research.google.com/github/apoorva6225/apoorva/blob/main/python7_py.ipynb\" target=\"_parent\"><img src=\"https://colab.research.google.com/assets/colab-badge.svg\" alt=\"Open In Colab\"/></a>"
      ]
    },
    {
      "cell_type": "code",
      "metadata": {
        "colab": {
          "base_uri": "https://localhost:8080/"
        },
        "id": "5ZWd7J3wmT9V",
        "outputId": "68b3898b-82d1-4a39-9d2b-17994324db3b"
      },
      "source": [
        "import random\n",
        "count = 1\n",
        "while count <= 3 :\n",
        "    num = random.randint(100,999)\n",
        "    if num % 5 == 0 :\n",
        "        print (num)\n",
        "        count += 1\n",
        "\n"
      ],
      "execution_count": null,
      "outputs": [
        {
          "output_type": "stream",
          "name": "stdout",
          "text": [
            "810\n",
            "550\n",
            "975\n"
          ]
        }
      ]
    }
  ]
}