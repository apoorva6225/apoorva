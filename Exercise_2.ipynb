{
  "nbformat": 4,
  "nbformat_minor": 0,
  "metadata": {
    "colab": {
      "name": "Exercise 2.ipynb",
      "provenance": [],
      "collapsed_sections": [],
      "authorship_tag": "ABX9TyNHvBxFVjsZXKqYwX2XDVzr",
      "include_colab_link": true
    },
    "kernelspec": {
      "name": "python3",
      "display_name": "Python 3"
    },
    "language_info": {
      "name": "python"
    }
  },
  "cells": [
    {
      "cell_type": "markdown",
      "metadata": {
        "id": "view-in-github",
        "colab_type": "text"
      },
      "source": [
        "<a href=\"https://colab.research.google.com/github/apoorva6225/apoorva/blob/main/Exercise_2.ipynb\" target=\"_parent\"><img src=\"https://colab.research.google.com/assets/colab-badge.svg\" alt=\"Open In Colab\"/></a>"
      ]
    },
    {
      "cell_type": "code",
      "metadata": {
        "colab": {
          "base_uri": "https://localhost:8080/"
        },
        "id": "FSMMs7TdWlPo",
        "outputId": "cac3bc12-9dce-4ce1-9f5e-ddd447d702bd"
      },
      "source": [
        "from scipy.stats import poisson\n",
        "x=3\n",
        "mu=2\n",
        "mean,var=poisson.stats(mu)\n",
        "p=poisson.pmf(3,2)\n",
        "print(p)\n",
        "\n"
      ],
      "execution_count": null,
      "outputs": [
        {
          "output_type": "stream",
          "name": "stdout",
          "text": [
            "0.18044704431548356\n"
          ]
        }
      ]
    },
    {
      "cell_type": "code",
      "metadata": {
        "colab": {
          "base_uri": "https://localhost:8080/"
        },
        "id": "DR86CPc2cMP9",
        "outputId": "dfbcf401-509d-4337-c4aa-69196768f48a"
      },
      "source": [
        "from scipy.stats import poisson\n",
        "x=0,1,2,3\n",
        "mu=5\n",
        "mean,var=poisson.stats(mu)\n",
        "p=poisson.cdf(3,5)\n",
        "print(p)\n"
      ],
      "execution_count": null,
      "outputs": [
        {
          "output_type": "stream",
          "name": "stdout",
          "text": [
            "0.2650259152973616\n"
          ]
        }
      ]
    },
    {
      "cell_type": "code",
      "metadata": {
        "colab": {
          "base_uri": "https://localhost:8080/",
          "height": 609
        },
        "id": "xHO4khr_fVdR",
        "outputId": "3e433a55-7d2b-4638-e098-a5d51ffe14a8"
      },
      "source": [
        "from scipy.stats import poisson\n",
        "import matplotlib.pyplot as plt\n",
        "import numpy as np\n",
        "mu=3\n",
        "x1=0\n",
        "mean,var=poisson.stats(mu)\n",
        "p=poisson.pmf(0,3)\n",
        "c=1-p\n",
        "print(\"probability of more than one policy: \",c)\n",
        "\n",
        "r=poisson.pmf(2,3)\n",
        "s=poisson.pmf(3,3)\n",
        "t=poisson.pmf(4,3)\n",
        "l=r+s+t\n",
        "print(\"Probability he will sell 2 or more policies but not more than 5:\",l)\n",
        "x=[2,3,4]\n",
        "y=[poisson.pmf(X,mu) for X in x]\n",
        "s=[poisson.cdf(Y,mu) for Y in x]\n",
        "plt.bar(x,y)\n",
        "plt.xlabel(\"Value of x\")\n",
        "plt.ylabel(\"Probability(x)\")\n",
        "plt.show()\n",
        "plt.bar(x,s)\n",
        "plt.xlabel(\"Value of x\")\n",
        "plt.ylabel(\"Probability(x)\")\n",
        "plt.show()\n",
        "\n",
        "muu=3/5\n",
        "print(muu)\n",
        "q=poisson.pmf(1,0.6)\n",
        "print(\"Probability in a given day he sell 1 policy is:\",q)\n",
        "\n",
        "\n",
        "\n",
        "\n",
        "\n",
        "\n"
      ],
      "execution_count": 33,
      "outputs": [
        {
          "output_type": "stream",
          "name": "stdout",
          "text": [
            "probability of more than one policy:  0.950212931632136\n",
            "Probability he will sell 2 or more policies but not more than 5: 0.6161149710523164\n"
          ]
        },
        {
          "output_type": "display_data",
          "data": {
            "image/png": "[encoded data removed]",
            "text/plain": [
              "<Figure size 432x288 with 1 Axes>"
            ]
          },
          "metadata": {
            "needs_background": "light"
          }
        },
        {
          "output_type": "display_data",
          "data": {
            "image/png": "[encoded data removed]",
            "text/plain": [
              "<Figure size 432x288 with 1 Axes>"
            ]
          },
          "metadata": {
            "needs_background": "light"
          }
        },
        {
          "output_type": "stream",
          "name": "stdout",
          "text": [
            "0.6\n",
            "Probability in a given day he sell 1 policy is: 0.3292869816564159\n"
          ]
        }
      ]
    },
    {
      "cell_type": "markdown",
      "metadata": {
        "id": "H7zH9Hd4CuuI"
      },
      "source": [
        ""
      ]
    },
    {
      "cell_type": "code",
      "metadata": {
        "colab": {
          "base_uri": "https://localhost:8080/"
        },
        "id": "tVrbr7UenOHj",
        "outputId": "2f417a8b-ae4f-4f22-c27a-043af8851e0a"
      },
      "source": [
        "from scipy.stats import geom\n",
        "x=5\n",
        "p=0.03\n",
        "l=geom.pmf(x,p)\n",
        "print(l)"
      ],
      "execution_count": null,
      "outputs": [
        {
          "output_type": "stream",
          "name": "stdout",
          "text": [
            "0.026558784299999996\n"
          ]
        }
      ]
    },
    {
      "cell_type": "code",
      "metadata": {
        "colab": {
          "base_uri": "https://localhost:8080/",
          "height": 541
        },
        "id": "5CXY7b-fqnFi",
        "outputId": "22b26070-a665-4e9d-934a-90494aada3ad"
      },
      "source": [
        "from scipy.stats import geom\n",
        "p=0.3\n",
        "x=5\n",
        "pd=geom.pmf(x,p)\n",
        "import numpy as np\n",
        "import matplotlib.pyplot as plt\n",
        "x=np.arange(1,11)\n",
        "y=[geom.pmf(X,p) for X in x]\n",
        "s=[geom.cdf(Y,p) for Y in x]\n",
        "plt.bar(x,y)\n",
        "plt.xlabel(\"value of x\")\n",
        "plt.ylabel(\"Probability(x)\")\n",
        "plt.show()\n",
        "plt.bar(r,s)\n",
        "plt.xlabel(\"value of x\")\n",
        "plt.ylabel(\"Probability(x)\")\n",
        "plt.show()\n",
        "           "
      ],
      "execution_count": 12,
      "outputs": [
        {
          "output_type": "display_data",
          "data": {
            "image/png": "[encoded data removed]",
            "text/plain": [
              "<Figure size 432x288 with 1 Axes>"
            ]
          },
          "metadata": {
            "needs_background": "light"
          }
        },
        {
          "output_type": "display_data",
          "data": {
            "image/png": "[encoded data removed]",
            "text/plain": [
              "<Figure size 432x288 with 1 Axes>"
            ]
          },
          "metadata": {
            "needs_background": "light"
          }
        }
      ]
    },
    {
      "cell_type": "code",
      "metadata": {
        "id": "0fBHfPF4qm8E"
      },
      "source": [
        ""
      ],
      "execution_count": null,
      "outputs": []
    }
  ]
}