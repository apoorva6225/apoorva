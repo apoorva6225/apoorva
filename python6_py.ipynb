{
  "nbformat": 4,
  "nbformat_minor": 0,
  "metadata": {
    "colab": {
      "name": "python6.py",
      "provenance": [],
      "collapsed_sections": [],
      "authorship_tag": "ABX9TyPDu/yyNEcL2ZdtJU44eGCx",
      "include_colab_link": true
    },
    "kernelspec": {
      "name": "python3",
      "display_name": "Python 3"
    },
    "language_info": {
      "name": "python"
    }
  },
  "cells": [
    {
      "cell_type": "markdown",
      "metadata": {
        "id": "view-in-github",
        "colab_type": "text"
      },
      "source": [
        "<a href=\"https://colab.research.google.com/github/apoorva6225/apoorva/blob/main/python6_py.ipynb\" target=\"_parent\"><img src=\"https://colab.research.google.com/assets/colab-badge.svg\" alt=\"Open In Colab\"/></a>"
      ]
    },
    {
      "cell_type": "code",
      "metadata": {
        "id": "ypzPKmFZmDKL",
        "colab": {
          "base_uri": "https://localhost:8080/"
        },
        "outputId": "45355d6a-782a-4d22-dff4-cc1b35fb1e52"
      },
      "source": [
        "\n",
        "listOne = [3, 6, 9, 12, 15, 18, 21]\n",
        "listTwo = [4, 8, 12, 16, 20, 24, 28]\n",
        "listThree = list()\n",
        "\n",
        "oddElements = listOne[1::2]\n",
        "print(\"Element at odd-index positions from list one\")\n",
        "print(oddElements)\n",
        "\n",
        "EvenElement = listTwo[0::2]\n",
        "print(\"Element at even-index positions from list two\")\n",
        "print(EvenElement)\n",
        "\n",
        "print(\"Printing Final third list\")\n",
        "listThree.extend(oddElements)\n",
        "listThree.extend(EvenElement)\n",
        "print(listThree)"
      ],
      "execution_count": null,
      "outputs": [
        {
          "output_type": "stream",
          "name": "stdout",
          "text": [
            "Element at odd-index positions from list one\n",
            "[6, 12, 18]\n",
            "Element at even-index positions from list two\n",
            "[4, 12, 20, 28]\n",
            "Printing Final third list\n",
            "[6, 12, 18, 4, 12, 20, 28]\n"
          ]
        }
      ]
    }
  ]
}