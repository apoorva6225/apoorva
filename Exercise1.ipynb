{
  "nbformat": 4,
  "nbformat_minor": 0,
  "metadata": {
    "colab": {
      "name": "Exercise1.ipynb",
      "provenance": [],
      "collapsed_sections": [],
      "authorship_tag": "ABX9TyO7rEMziIO+rgqRwlZQfNkW",
      "include_colab_link": true
    },
    "kernelspec": {
      "name": "python3",
      "display_name": "Python 3"
    },
    "language_info": {
      "name": "python"
    }
  },
  "cells": [
    {
      "cell_type": "markdown",
      "metadata": {
        "id": "view-in-github",
        "colab_type": "text"
      },
      "source": [
        "<a href=\"https://colab.research.google.com/github/apoorva6225/apoorva/blob/main/Exercise1.ipynb\" target=\"_parent\"><img src=\"https://colab.research.google.com/assets/colab-badge.svg\" alt=\"Open In Colab\"/></a>"
      ]
    },
    {
      "cell_type": "code",
      "metadata": {
        "colab": {
          "base_uri": "https://localhost:8080/"
        },
        "id": "IaYfbfUbzczu",
        "outputId": "0430abdd-36b3-4da6-ff27-b4e626db64bb"
      },
      "source": [
        "from scipy.stats import binom\n",
        "n=6\n",
        "p=0.5\n",
        "r_values=3\n",
        "mean,var=binom.stats(n,p)\n",
        "pd=binom.pmf(r_values,n,p) \n",
        "print(str(r_values)+\"\\t\"+str(pd))\n",
        "print(\"mean=\"+str(mean))\n",
        "print(\"variance=\"+str(var))"
      ],
      "execution_count": null,
      "outputs": [
        {
          "output_type": "stream",
          "name": "stdout",
          "text": [
            "3\t0.3125000000000002\n",
            "mean=3.0\n",
            "variance=1.5\n"
          ]
        }
      ]
    },
    {
      "cell_type": "code",
      "metadata": {
        "colab": {
          "base_uri": "https://localhost:8080/"
        },
        "id": "s3SIWW7JzvxP",
        "outputId": "0526e72e-56cb-4df4-abca-adffbd5b5776"
      },
      "source": [
        "from scipy.stats import binom\n",
        "n=8\n",
        "p=0.1\n",
        "r_values=1\n",
        "mean,var=binom.stats(n,p)\n",
        "pd=binom.pmf(r_values,n,p) \n",
        "print(str(r_values)+\"\\t\"+str(pd))\n",
        "print(\"mean=\"+str(mean))\n",
        "print(\"variance=\"+str(var))"
      ],
      "execution_count": null,
      "outputs": [
        {
          "output_type": "stream",
          "name": "stdout",
          "text": [
            "1\t0.3826375200000002\n",
            "mean=0.8\n",
            "variance=0.7200000000000001\n"
          ]
        }
      ]
    },
    {
      "cell_type": "code",
      "metadata": {
        "id": "G-dFohkgz-Mn",
        "colab": {
          "base_uri": "https://localhost:8080/"
        },
        "outputId": "fbc6a461-7079-4356-a912-53a0519a53e4"
      },
      "source": [
        "from scipy.stats import binom\n",
        "\n",
        "n=10\n",
        "\n",
        "p=0.1\n",
        "\n",
        "r_values=list(range(4))\n",
        "\n",
        "d_values=list(range(4,11))\n",
        "\n",
        "mean,var=binom.stats(n,p)\n",
        "\n",
        "pd=[binom.pmf(r,n,p) for r in r_values]\n",
        "\n",
        "df=[binom.pmf(s,n,p) for s in d_values]\n",
        "\n",
        "print(\"r\\tp(r)\")\n",
        "\n",
        "for i in range(7):\n",
        "\n",
        "  print(str(d_values[i]) + \"\\t\" + str(df[i]))\n",
        "\n",
        "s=sum(pd)\n",
        "\n",
        "t=1-s\n",
        "\n",
        "print(\"probability of more than 3 defective is:\" +str(t))\n",
        "\n",
        "print(\"mean =\"+str(mean)) \n",
        "\n",
        "print(\"variance =\"+str(var))\n"
      ],
      "execution_count": null,
      "outputs": [
        {
          "output_type": "stream",
          "name": "stdout",
          "text": [
            "r\tp(r)\n",
            "4\t0.011160261000000015\n",
            "5\t0.0014880348000000042\n",
            "6\t0.00013778100000000015\n",
            "7\t8.748000000000036e-06\n",
            "8\t3.645000000000009e-07\n",
            "9\t9.000000000000028e-09\n",
            "10\t1.0000000000000031e-10\n",
            "probability of more than 3 defective is:0.01279519839999943\n",
            "mean =1.0\n",
            "variance =0.9\n"
          ]
        }
      ]
    },
    {
      "cell_type": "code",
      "metadata": {
        "colab": {
          "base_uri": "https://localhost:8080/"
        },
        "id": "82ZxHtEs1QU8",
        "outputId": "2d26bc5b-2ee1-4890-d967-f60cb475c8e9"
      },
      "source": [
        "from scipy.stats import binom\n",
        "\n",
        "n=12\n",
        "\n",
        "p=0.2\n",
        "\n",
        "r_values=2\n",
        "\n",
        "s_values=list(range(3))\n",
        "\n",
        "t_values=list(range(3,13))\n",
        "\n",
        "mean,var=binom.stats(n,p)\n",
        "\n",
        "pd=binom.pmf(r_values,n,p)\n",
        "\n",
        "sd=[binom.pmf(s,n,p) for s in s_values]\n",
        "\n",
        "td=[binom.pmf(t,n,p) for t in t_values]\n",
        "\n",
        "print(str(r_values) + \"\\t\" + str(pd))\n",
        "\n",
        "print(\"probability of exactly 2 are of such changes is:\" +str(pd))\n",
        "\n",
        "print(str(s_values)+ \"\\t\" + str(sd))\n",
        "\n",
        "a=sum(sd)\n",
        "\n",
        "print(\"probability of atmost 2 are of such changes is:\" +str(a))\n",
        "\n",
        "print(str(t_values)+ \"\\t\" +str(td))\n",
        "\n",
        "b=1-a\n",
        "\n",
        "print(\"probabiity of more than 2 such changes is:\" +str(b))\n",
        "\n",
        "\n",
        "\n",
        "\n",
        "\n",
        "print(\"mean =\"+str(mean)) \n",
        "\n",
        "print(\"variance =\"+str(var))"
      ],
      "execution_count": 4,
      "outputs": [
        {
          "output_type": "stream",
          "name": "stdout",
          "text": [
            "2\t0.28346784153599947\n",
            "probability of exactly 2 are of such changes is:0.28346784153599947\n",
            "[0, 1, 2]\t[0.06871947673599997, 0.2061584302079996, 0.28346784153599947]\n",
            "probability of atmost 2 are of such changes is:0.558345748479999\n",
            "[3, 4, 5, 6, 7, 8, 9, 10, 11, 12]\t[0.23622320128000002, 0.1328755507199998, 0.05315022028799997, 0.01550214758399999, 0.003321888767999998, 0.0005190451199999995, 5.767168000000002e-05, 4.3253759999999935e-06, 1.9660799999999964e-07, 4.096000000000008e-09]\n",
            "probabiity of more than 2 such changes is:0.44165425152000104\n",
            "mean =2.4000000000000004\n",
            "variance =1.9200000000000004\n"
          ]
        }
      ]
    },
    {
      "cell_type": "code",
      "metadata": {
        "colab": {
          "base_uri": "https://localhost:8080/",
          "height": 503
        },
        "id": "x9EGBQ9o3Fla",
        "outputId": "872da293-c279-4c4a-e05c-aa47edb0590e"
      },
      "source": [
        "from scipy.stats import binom\n",
        "n=10\n",
        "p=0.8\n",
        "r_values=list(range(n+1))\n",
        "mean,var=binom.stats(n,p)\n",
        "pd=[binom.pmf(r,n,p) for r in r_values]\n",
        "print(\"r\\tp(r)\")\n",
        "for i in range(n+1):\n",
        "  print(str(r_values[i]) + \"\\t\" + str(pd[i]))\n",
        "print(\"mean =\"+str(mean)) \n",
        "print(\"variance =\"+str(var))\n",
        "import matplotlib.pyplot as plt\n",
        "plt.bar(r_values,pd)\n",
        "plt.show()"
      ],
      "execution_count": 5,
      "outputs": [
        {
          "output_type": "stream",
          "name": "stdout",
          "text": [
            "r\tp(r)\n",
            "0\t1.0240000000000004e-07\n",
            "1\t4.096000000000007e-06\n",
            "2\t7.372799999999991e-05\n",
            "3\t0.0007864319999999992\n",
            "4\t0.005505024000000001\n",
            "5\t0.02642411520000004\n",
            "6\t0.08808038400000004\n",
            "7\t0.20132659200000014\n",
            "8\t0.301989888\n",
            "9\t0.26843545600000035\n",
            "10\t0.10737418240000005\n",
            "mean =8.0\n",
            "variance =1.5999999999999996\n"
          ]
        },
        {
          "output_type": "display_data",
          "data": {
            "image/png": "[encoded data removed]",
            "text/plain": [
              "<Figure size 432x288 with 1 Axes>"
            ]
          },
          "metadata": {
            "needs_background": "light"
          }
        }
      ]
    }
  ]
}