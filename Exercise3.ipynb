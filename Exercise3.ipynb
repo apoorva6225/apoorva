{
  "nbformat": 4,
  "nbformat_minor": 0,
  "metadata": {
    "colab": {
      "name": "Exercise3.ipynb",
      "provenance": [],
      "collapsed_sections": [],
      "authorship_tag": "ABX9TyOs0AaOxBaRFeKeZJtThu10",
      "include_colab_link": true
    },
    "kernelspec": {
      "name": "python3",
      "display_name": "Python 3"
    },
    "language_info": {
      "name": "python"
    }
  },
  "cells": [
    {
      "cell_type": "markdown",
      "metadata": {
        "id": "view-in-github",
        "colab_type": "text"
      },
      "source": [
        "<a href=\"https://colab.research.google.com/github/apoorva6225/apoorva/blob/main/Exercise3.ipynb\" target=\"_parent\"><img src=\"https://colab.research.google.com/assets/colab-badge.svg\" alt=\"Open In Colab\"/></a>"
      ]
    },
    {
      "cell_type": "code",
      "metadata": {
        "colab": {
          "base_uri": "https://localhost:8080/"
        },
        "id": "x9dJyFdeZkxJ",
        "outputId": "73a18f48-9d2b-4763-ef4d-6c5b3053d216"
      },
      "source": [
        "from scipy.stats import nbinom\n",
        "p=0.70\n",
        "x=2\n",
        "n=3\n",
        "mean,var=nbinom.stats(n,p)\n",
        "a=nbinom.pmf(x,n,p)\n",
        "print(a)"
      ],
      "execution_count": 19,
      "outputs": [
        {
          "output_type": "stream",
          "name": "stdout",
          "text": [
            "0.18522\n"
          ]
        }
      ]
    },
    {
      "cell_type": "code",
      "metadata": {
        "colab": {
          "base_uri": "https://localhost:8080/"
        },
        "id": "EVZGCQ7Dbgf2",
        "outputId": "732d68fe-ee37-4b0b-ab60-39f68ad30c11"
      },
      "source": [
        "from scipy.stats import nbinom\n",
        "p=0.20\n",
        "x=10\n",
        "n=5\n",
        "mean,var=nbinom.stats(r,p)\n",
        "\n",
        "a=nbinom.pmf(x,n,p)\n",
        "\n",
        "print(a)"
      ],
      "execution_count": 17,
      "outputs": [
        {
          "output_type": "stream",
          "name": "stdout",
          "text": [
            "0.034394098106368065\n"
          ]
        }
      ]
    },
    {
      "cell_type": "code",
      "metadata": {
        "colab": {
          "base_uri": "https://localhost:8080/"
        },
        "id": "BPrOPQQjbgVM",
        "outputId": "145f22bd-b697-4560-d4da-6e53972a0706"
      },
      "source": [
        "from scipy.stats import nbinom\n",
        "p=0.42\n",
        "x=10\n",
        "n=4\n",
        "mean,var=nbinom.stats(n,p)\n",
        "\n",
        "a=nbinom.pmf(x,n,p)\n",
        "\n",
        "print(a)"
      ],
      "execution_count": 23,
      "outputs": [
        {
          "output_type": "stream",
          "name": "stdout",
          "text": [
            "0.038339207403412665\n"
          ]
        }
      ]
    },
    {
      "cell_type": "code",
      "metadata": {
        "colab": {
          "base_uri": "https://localhost:8080/"
        },
        "id": "cAAwvRCZdDxo",
        "outputId": "9d3a57cf-4686-413e-8a03-39cd1d925d0b"
      },
      "source": [
        "from scipy.stats import hypergeom\n",
        "M=20\n",
        "N=6\n",
        "n=5\n",
        "x=4\n",
        "mean, var = hypergeom.stats(M, n, N)\n",
        "a = hypergeom.pmf(x, M, n, N)\n",
        "print(a)\n"
      ],
      "execution_count": 28,
      "outputs": [
        {
          "output_type": "stream",
          "name": "stdout",
          "text": [
            "0.0135448916408669\n"
          ]
        }
      ]
    },
    {
      "cell_type": "code",
      "metadata": {
        "colab": {
          "base_uri": "https://localhost:8080/"
        },
        "id": "oN7Xs6EciHmH",
        "outputId": "98075d97-e254-4af6-dce8-2eb500519e6d"
      },
      "source": [
        "from scipy.stats import hypergeom\n",
        "M=196\n",
        "N=101\n",
        "n=10\n",
        "x=7\n",
        "mean, var = hypergeom.stats(M, n, N)\n",
        "a = hypergeom.pmf(x, M, n, N)\n",
        "print(a)"
      ],
      "execution_count": 29,
      "outputs": [
        {
          "output_type": "stream",
          "name": "stdout",
          "text": [
            "0.13039642705765833\n"
          ]
        }
      ]
    },
    {
      "cell_type": "code",
      "metadata": {
        "colab": {
          "base_uri": "https://localhost:8080/",
          "height": 558
        },
        "id": "_u072Y_riw_0",
        "outputId": "427bcc89-aee4-42e9-8dbd-ec9577d53039"
      },
      "source": [
        "from scipy.stats import hypergeom\n",
        "x=list(range(1,6))\n",
        "M=30\n",
        "n=5\n",
        "N=14\n",
        "mean,var=hypergeom.stats(M,n,N)\n",
        "a=[hypergeom.pmf(X,M,n,N) for X in x]\n",
        "b=[hypergeom.cdf(Y,M,n,N) for Y in x]\n",
        "c=sum(a)\n",
        "print(\"Probability of getting exactly 1, 2, 3, 4, 5 defective parts is:\" +str(c))\n",
        "import matplotlib.pyplot as plt\n",
        "import numpy as np\n",
        "plt.bar(x,a)\n",
        "plt.xlabel(\"Values of X\")\n",
        "plt.ylabel(\"Probability(X)\")\n",
        "plt.show()\n",
        "plt.bar(x,b)\n",
        "plt.xlabel(\"Value of X\")\n",
        "plt.ylabel(\"Probability(X)\")\n",
        "plt.show()\n"
      ],
      "execution_count": 64,
      "outputs": [
        {
          "output_type": "stream",
          "name": "stdout",
          "text": [
            "Probability of getting exactly 1, 2, 3, 4, 5 defective parts is:0.9693486590038315\n"
          ]
        },
        {
          "output_type": "display_data",
          "data": {
            "image/png": "[encoded data removed]",
            "text/plain": [
              "<Figure size 432x288 with 1 Axes>"
            ]
          },
          "metadata": {
            "needs_background": "light"
          }
        },
        {
          "output_type": "display_data",
          "data": {
            "image/png": "[encoded data removed]",
            "text/plain": [
              "<Figure size 432x288 with 1 Axes>"
            ]
          },
          "metadata": {
            "needs_background": "light"
          }
        }
      ]
    },
    {
      "cell_type": "markdown",
      "metadata": {
        "id": "jZSzrlWeiHPP"
      },
      "source": [
        ""
      ]
    }
  ]
}