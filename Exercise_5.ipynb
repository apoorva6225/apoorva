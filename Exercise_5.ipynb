{
  "nbformat": 4,
  "nbformat_minor": 0,
  "metadata": {
    "colab": {
      "name": "Exercise 5.ipynb",
      "provenance": [],
      "collapsed_sections": [],
      "authorship_tag": "ABX9TyOIYGrsEzjMmBivpz06KG2K",
      "include_colab_link": true
    },
    "kernelspec": {
      "name": "python3",
      "display_name": "Python 3"
    },
    "language_info": {
      "name": "python"
    }
  },
  "cells": [
    {
      "cell_type": "markdown",
      "metadata": {
        "id": "view-in-github",
        "colab_type": "text"
      },
      "source": [
        "<a href=\"https://colab.research.google.com/github/apoorva6225/apoorva/blob/main/Exercise_5.ipynb\" target=\"_parent\"><img src=\"https://colab.research.google.com/assets/colab-badge.svg\" alt=\"Open In Colab\"/></a>"
      ]
    },
    {
      "cell_type": "code",
      "metadata": {
        "colab": {
          "base_uri": "https://localhost:8080/"
        },
        "id": "ICSxkPtSxrrJ",
        "outputId": "7eab4b69-c0fd-4d05-c729-e6362b457ec8"
      },
      "source": [
        "from scipy.stats import norm\n",
        "mean=100\n",
        "sd=10\n",
        "a=norm.cdf(120,mean,sd)\n",
        "print(a)\n"
      ],
      "execution_count": 2,
      "outputs": [
        {
          "output_type": "stream",
          "name": "stdout",
          "text": [
            "0.9772498680518208\n"
          ]
        }
      ]
    },
    {
      "cell_type": "code",
      "metadata": {
        "colab": {
          "base_uri": "https://localhost:8080/"
        },
        "id": "i6BZdtrqyR6u",
        "outputId": "392ea5d2-9018-49dc-e36a-717e6aff5699"
      },
      "source": [
        "from scipy.stats import norm\n",
        "mean=20\n",
        "sd=1.5\n",
        "a=norm.cdf(25,mean,sd)\n",
        "b=1-a\n",
        "print(b)\n"
      ],
      "execution_count": 10,
      "outputs": [
        {
          "output_type": "stream",
          "name": "stdout",
          "text": [
            "0.0004290603331967846\n"
          ]
        }
      ]
    },
    {
      "cell_type": "code",
      "metadata": {
        "colab": {
          "base_uri": "https://localhost:8080/"
        },
        "id": "-hY3yobvyjxW",
        "outputId": "57ca276b-b92f-4f92-a95f-42a429ab14ce"
      },
      "source": [
        "from scipy.stats import norm\n",
        "mean=50\n",
        "sd=15\n",
        "\n",
        "d=norm.cdf(50,mean,sd)\n",
        "b=norm.cdf(70,mean,sd)\n",
        "c=b-d\n",
        "print(c)"
      ],
      "execution_count": 9,
      "outputs": [
        {
          "output_type": "stream",
          "name": "stdout",
          "text": [
            "0.4087887802741321\n"
          ]
        }
      ]
    },
    {
      "cell_type": "code",
      "metadata": {
        "colab": {
          "base_uri": "https://localhost:8080/"
        },
        "id": "WPoL_5EFzqwh",
        "outputId": "bfe2137d-4f52-4905-f218-64964505d04d"
      },
      "source": [
        "from scipy.stats import norm\n",
        "mean=90\n",
        "sd=10\n",
        "d=norm.cdf(100,mean,sd)\n",
        "d=1-d\n",
        "print(d)\n",
        "\n"
      ],
      "execution_count": 13,
      "outputs": [
        {
          "output_type": "stream",
          "name": "stdout",
          "text": [
            "0.15865525393145707\n"
          ]
        }
      ]
    },
    {
      "cell_type": "code",
      "metadata": {
        "colab": {
          "base_uri": "https://localhost:8080/"
        },
        "id": "0rXNnaKu03An",
        "outputId": "529bde6d-1dad-4daa-cc2b-6db92fb99094"
      },
      "source": [
        "from scipy.stats import norm\n",
        "mean=100\n",
        "sd=14\n",
        "z=-2.5\n",
        "x=sd*z+mean\n",
        "print(x)\n",
        "z1=2.5\n",
        "y=sd*z1+mean\n",
        "print(y)"
      ],
      "execution_count": 14,
      "outputs": [
        {
          "output_type": "stream",
          "name": "stdout",
          "text": [
            "65.0\n",
            "135.0\n"
          ]
        }
      ]
    }
  ]
}