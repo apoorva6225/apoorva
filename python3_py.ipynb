{
  "nbformat": 4,
  "nbformat_minor": 0,
  "metadata": {
    "colab": {
      "name": "python3.py",
      "provenance": [],
      "collapsed_sections": [],
      "authorship_tag": "ABX9TyOlTutluCulIDPvvZ07rL9L",
      "include_colab_link": true
    },
    "kernelspec": {
      "name": "python3",
      "display_name": "Python 3"
    },
    "language_info": {
      "name": "python"
    }
  },
  "cells": [
    {
      "cell_type": "markdown",
      "metadata": {
        "id": "view-in-github",
        "colab_type": "text"
      },
      "source": [
        "<a href=\"https://colab.research.google.com/github/apoorva6225/apoorva/blob/main/python3_py.ipynb\" target=\"_parent\"><img src=\"https://colab.research.google.com/assets/colab-badge.svg\" alt=\"Open In Colab\"/></a>"
      ]
    },
    {
      "cell_type": "code",
      "metadata": {
        "id": "tNYKWgjhkY_K",
        "colab": {
          "base_uri": "https://localhost:8080/"
        },
        "outputId": "707fcbc8-1cae-43ca-a8bd-3474e4b9919a"
      },
      "source": [
        "\n",
        "num=7\n",
        "factorial=1\n",
        "if num<0:\n",
        "  print(\"sorry,factorial does not exist for negative number\")\n",
        "elif num==0:\n",
        "  print(\"The factorial of 0 is 1\")\n",
        "else:\n",
        "  for i in range(1,num+1):\n",
        "    factorial=factorial*i\n",
        "  print(\"The factorial of\",num,\"is\",factorial)   "
      ],
      "execution_count": null,
      "outputs": [
        {
          "output_type": "stream",
          "name": "stdout",
          "text": [
            "The factorial of 7 is 5040\n"
          ]
        }
      ]
    }
  ]
}