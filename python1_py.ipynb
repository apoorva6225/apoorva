{
  "nbformat": 4,
  "nbformat_minor": 0,
  "metadata": {
    "colab": {
      "name": "python1.py",
      "provenance": [],
      "collapsed_sections": [],
      "authorship_tag": "ABX9TyMKxGbaPurr5aqgv8qy7lfi",
      "include_colab_link": true
    },
    "kernelspec": {
      "name": "python3",
      "display_name": "Python 3"
    },
    "language_info": {
      "name": "python"
    }
  },
  "cells": [
    {
      "cell_type": "markdown",
      "metadata": {
        "id": "view-in-github",
        "colab_type": "text"
      },
      "source": [
        "<a href=\"https://colab.research.google.com/github/apoorva6225/apoorva/blob/main/python1_py.ipynb\" target=\"_parent\"><img src=\"https://colab.research.google.com/assets/colab-badge.svg\" alt=\"Open In Colab\"/></a>"
      ]
    },
    {
      "cell_type": "code",
      "metadata": {
        "colab": {
          "base_uri": "https://localhost:8080/"
        },
        "id": "hAPQEKZJVT8n",
        "outputId": "3b35c4b1-0b1e-49fe-a660-4da2542810f9"
      },
      "source": [
        "n=int(input(\"Please Enter any Number\"))\n",
        "sum=0\n",
        "for num in range(1,n+1):\n",
        " sum=sum+num\n",
        "print(\"sum of first\",n,\"numbers is:\",sum)\n",
        "average=sum/n\n",
        "print(\"Avarage of \",n,\"numbers is:\",average)\n"
      ],
      "execution_count": null,
      "outputs": [
        {
          "output_type": "stream",
          "name": "stdout",
          "text": [
            "Please Enter any Number5\n",
            "sum of first 5 numbers is: 15\n",
            "Avarage of  5 numbers is: 3.0\n"
          ]
        }
      ]
    }
  ]
}