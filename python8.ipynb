{
  "nbformat": 4,
  "nbformat_minor": 0,
  "metadata": {
    "colab": {
      "name": "python8.ipynb",
      "provenance": [],
      "collapsed_sections": [],
      "authorship_tag": "ABX9TyN0J+Zq89IiY+UqCL6zbkuo",
      "include_colab_link": true
    },
    "kernelspec": {
      "name": "python3",
      "display_name": "Python 3"
    },
    "language_info": {
      "name": "python"
    }
  },
  "cells": [
    {
      "cell_type": "markdown",
      "metadata": {
        "id": "view-in-github",
        "colab_type": "text"
      },
      "source": [
        "<a href=\"https://colab.research.google.com/github/apoorva6225/apoorva/blob/main/python8.ipynb\" target=\"_parent\"><img src=\"https://colab.research.google.com/assets/colab-badge.svg\" alt=\"Open In Colab\"/></a>"
      ]
    },
    {
      "cell_type": "code",
      "metadata": {
        "id": "Wai27z6okHL-",
        "colab": {
          "base_uri": "https://localhost:8080/"
        },
        "outputId": "f2bf47da-b022-449b-96de-cda553eae007"
      },
      "source": [
        "import string\n",
        "import random\n",
        "  \n",
        "# initializing size of string \n",
        "N = 5\n",
        "  \n",
        "# using random.choices()\n",
        "# generating random strings \n",
        "res = ''.join(random.choices(string.ascii_uppercase +\n",
        "                             string.digits, k = N))\n",
        "  \n",
        "# print result\n",
        "print(\"The generated random string : \" + str(res))"
      ],
      "execution_count": null,
      "outputs": [
        {
          "output_type": "stream",
          "name": "stdout",
          "text": [
            "The generated random string : 1VKHJ\n"
          ]
        }
      ]
    }
  ]
}